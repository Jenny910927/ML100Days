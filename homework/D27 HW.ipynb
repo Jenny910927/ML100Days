{
 "cells": [
  {
   "cell_type": "markdown",
   "metadata": {
    "id": "H-z4L8J371GO"
   },
   "source": [
    "## 作業:\n",
    "今天學到不同統計量之間特性，  \n",
    "試著分析男生女生身高資料，  \n",
    "試著回答下面的問題:  \n",
    "Q1:試著用今天所教的內容，如何描述這兩組資料的樣態?    \n",
    "Q2: 請問男生和女生在平均身高上誰比較高?   \n",
    "Q3:請問第二題的答案和日常生活中觀察的一致嗎? 如果不一致，你覺得原因可能為何?    \n",
    "上述問題透過  python 語法進行運算，\n",
    "並將上述答案填寫在 (google 表單)[https://docs.google.com/forms/d/e/1FAIpQLSdDzwpeJl8YLPwZaW8pBZvtuXY9kIbbZLqxcXyzFaoraV5JEA/viewform ]\n",
    "![](作業資料圖檔.PNG)"
   ]
  },
  {
   "cell_type": "code",
   "execution_count": 1,
   "metadata": {
    "id": "yz28_IgkYdBW"
   },
   "outputs": [],
   "source": [
    "# library\n",
    "import matplotlib.pyplot as plt\n",
    "import numpy as np\n",
    "import pandas as pd\n",
    "from scipy import stats\n",
    "import math\n",
    "import statistics\n",
    "import seaborn as "
   ]
  },
  {
   "cell_type": "code",
   "execution_count": 6,
   "metadata": {
    "id": "3NtzuWtt71GU",
    "outputId": "be21c4eb-a6c2-4674-aadd-d378bafc0428"
   },
   "outputs": [
    {
     "data": {
      "text/html": [
       "<div>\n",
       "<style scoped>\n",
       "    .dataframe tbody tr th:only-of-type {\n",
       "        vertical-align: middle;\n",
       "    }\n",
       "\n",
       "    .dataframe tbody tr th {\n",
       "        vertical-align: top;\n",
       "    }\n",
       "\n",
       "    .dataframe thead th {\n",
       "        text-align: right;\n",
       "    }\n",
       "</style>\n",
       "<table border=\"1\" class=\"dataframe\">\n",
       "  <thead>\n",
       "    <tr style=\"text-align: right;\">\n",
       "      <th></th>\n",
       "      <th>0</th>\n",
       "      <th>1</th>\n",
       "      <th>2</th>\n",
       "      <th>3</th>\n",
       "      <th>4</th>\n",
       "      <th>5</th>\n",
       "      <th>6</th>\n",
       "      <th>7</th>\n",
       "      <th>8</th>\n",
       "      <th>9</th>\n",
       "      <th>10</th>\n",
       "      <th>11</th>\n",
       "      <th>12</th>\n",
       "      <th>13</th>\n",
       "      <th>14</th>\n",
       "      <th>15</th>\n",
       "      <th>16</th>\n",
       "      <th>17</th>\n",
       "      <th>18</th>\n",
       "      <th>19</th>\n",
       "    </tr>\n",
       "  </thead>\n",
       "  <tbody>\n",
       "    <tr>\n",
       "      <th>boy</th>\n",
       "      <td>164</td>\n",
       "      <td>175</td>\n",
       "      <td>183</td>\n",
       "      <td>173</td>\n",
       "      <td>176</td>\n",
       "      <td>159</td>\n",
       "      <td>165</td>\n",
       "      <td>165</td>\n",
       "      <td>169</td>\n",
       "      <td>151</td>\n",
       "      <td>156</td>\n",
       "      <td>163</td>\n",
       "      <td>169</td>\n",
       "      <td>144</td>\n",
       "      <td>170</td>\n",
       "      <td>177</td>\n",
       "      <td>165</td>\n",
       "      <td>160</td>\n",
       "      <td>164</td>\n",
       "      <td>171</td>\n",
       "    </tr>\n",
       "    <tr>\n",
       "      <th>girl</th>\n",
       "      <td>169</td>\n",
       "      <td>170</td>\n",
       "      <td>162</td>\n",
       "      <td>154</td>\n",
       "      <td>183</td>\n",
       "      <td>173</td>\n",
       "      <td>169</td>\n",
       "      <td>167</td>\n",
       "      <td>170</td>\n",
       "      <td>185</td>\n",
       "      <td>162</td>\n",
       "      <td>175</td>\n",
       "      <td>168</td>\n",
       "      <td>151</td>\n",
       "      <td>181</td>\n",
       "      <td>170</td>\n",
       "      <td>182</td>\n",
       "      <td>156</td>\n",
       "      <td>159</td>\n",
       "      <td>160</td>\n",
       "    </tr>\n",
       "  </tbody>\n",
       "</table>\n",
       "</div>"
      ],
      "text/plain": [
       "       0    1    2    3    4    5    6    7    8    9    10   11   12   13  \\\n",
       "boy   164  175  183  173  176  159  165  165  169  151  156  163  169  144   \n",
       "girl  169  170  162  154  183  173  169  167  170  185  162  175  168  151   \n",
       "\n",
       "       14   15   16   17   18   19  \n",
       "boy   170  177  165  160  164  171  \n",
       "girl  181  170  182  156  159  160  "
      ]
     },
     "execution_count": 6,
     "metadata": {},
     "output_type": "execute_result"
    }
   ],
   "source": [
    "## 輸入資料\n",
    "boys=np.array([164, 175, 183, 173,\n",
    "               176, 159, 165, 165,\n",
    "               169, 151, 156, 163,\n",
    "               169, 144, 170, 177,\n",
    "               165, 160, 164, 171])\n",
    "\n",
    "girls=np.array([169, 170, 162, 154,\n",
    "               183, 173, 169, 167,\n",
    "               170, 185, 162, 175,\n",
    "               168, 151, 181, 170,\n",
    "               182, 156, 159, 160])\n",
    "boys, girls\n",
    "\n",
    "df = pd.DataFrame((boys, girls), \n",
    "                  index=['boy', 'girl'])\n",
    "df"
   ]
  },
  {
   "cell_type": "code",
   "execution_count": 26,
   "metadata": {
    "id": "uDM9AzrY71GW",
    "outputId": "f4e7ede3-fda9-4858-f122-af7c3b3f3ad4"
   },
   "outputs": [
    {
     "name": "stdout",
     "output_type": "stream",
     "text": [
      "[男生]\n",
      "平均數:  165.95\n",
      "中位數:  165.0\n",
      "眾數:  165\n",
      "全距:  39\n",
      "變異數:  84.8921052631579\n",
      "標準差:  9.213691185575838\n",
      "偏度:  -0.4713212731737694\n",
      "峰度:  0.19395882957876243\n",
      "[女生]\n",
      "平均數:  168.3\n",
      "中位數:  169.0\n",
      "眾數:  170\n",
      "全距:  34\n",
      "變異數:  95.37894736842104\n",
      "標準差:  9.766214587465353\n",
      "偏度:  0.059853211293650746\n",
      "峰度:  -0.8203607083948947\n"
     ]
    }
   ],
   "source": [
    "#Q1:試著用今天所教的內容，如何描述這兩組資料的樣態?\n",
    "#暗示:  分別計算男生和女生的統計量\n",
    "print(\"[男生]\")\n",
    "print(\"平均數: \", np.mean(boys))\n",
    "print(\"中位數: \", np.median(boys))\n",
    "print(\"眾數: \", statistics.mode(boys))\n",
    "print(\"全距: \", np.max(boys)-np.min(boys))\n",
    "print(\"變異數: \", np.var(boys,ddof=1))\n",
    "print(\"標準差: \", np.std(boys,ddof=1))\n",
    "print(\"偏度: \", stats.skew(boys))\n",
    "print(\"峰度: \", stats.kurtosis(boys))\n",
    "\n",
    "print(\"[女生]\")\n",
    "print(\"平均數: \", np.mean(girls))\n",
    "print(\"中位數: \", np.median(girls))\n",
    "print(\"眾數: \", statistics.mode(girls))\n",
    "print(\"全距: \", np.max(girls)-np.min(girls))\n",
    "print(\"變異數: \", np.var(girls,ddof=1))\n",
    "print(\"標準差: \", np.std(girls,ddof=1))\n",
    "print(\"偏度: \", stats.skew(girls))\n",
    "print(\"峰度: \", stats.kurtosis(girls))"
   ]
  },
  {
   "cell_type": "code",
   "execution_count": 28,
   "metadata": {
    "id": "xH_GNsC271GW",
    "outputId": "f4b4c46a-0d8b-421c-9c70-0ebf2aab0e31"
   },
   "outputs": [
    {
     "name": "stdout",
     "output_type": "stream",
     "text": [
      "女生\n"
     ]
    }
   ],
   "source": [
    "#Q2: 請問男生和女生在平均身高上誰比較高? \n",
    "D = np.mean(boys)-np.mean(girls)\n",
    "if D > 0:\n",
    "    print(\"男生\")\n",
    "else:\n",
    "    print(\"女生\")"
   ]
  },
  {
   "cell_type": "code",
   "execution_count": 29,
   "metadata": {
    "id": "xAzZU0Dv71GX",
    "outputId": "e2017c09-70fc-41ab-99c0-9d41fe21629d"
   },
   "outputs": [
    {
     "name": "stdout",
     "output_type": "stream",
     "text": [
      "不一致，可能抽樣不平均，沒辦法表現出母體的實際情況\n"
     ]
    }
   ],
   "source": [
    "#Q3:請問第二題的答案和日常生活中觀察的一致嗎? 如果不一致，你覺得原因可能為何? \n",
    "print(\"不一致，可能抽樣不平均，沒辦法表現出母體的實際情況\")"
   ]
  },
  {
   "cell_type": "code",
   "execution_count": null,
   "metadata": {},
   "outputs": [],
   "source": []
  }
 ],
 "metadata": {
  "colab": {
   "collapsed_sections": [],
   "name": "作業.ipynb",
   "provenance": []
  },
  "kernelspec": {
   "display_name": "Python 3",
   "language": "python",
   "name": "python3"
  },
  "language_info": {
   "codemirror_mode": {
    "name": "ipython",
    "version": 3
   },
   "file_extension": ".py",
   "mimetype": "text/x-python",
   "name": "python",
   "nbconvert_exporter": "python",
   "pygments_lexer": "ipython3",
   "version": "3.8.5"
  }
 },
 "nbformat": 4,
 "nbformat_minor": 1
}
