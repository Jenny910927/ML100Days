{
 "cells": [
  {
   "cell_type": "markdown",
   "metadata": {
    "colab_type": "text",
    "id": "P6xk2_jLsvFF"
   },
   "source": [
    "# [作業目標]\n",
    "\n",
    "1. 請比較對一個 100 x 100 * 100 的陣列，使用不同方法對每一個元素 +1 的時間比較。\n",
    "\n",
    "2. 如何從一個陣列中，找出出現頻率最高的數值與位置？\n",
    "\n",
    "3. 如何利用 list(...) 實現 a.tolist() 的效果？試著用程式實作。\n"
   ]
  },
  {
   "cell_type": "markdown",
   "metadata": {
    "colab_type": "text",
    "id": "uXGll28asvFS"
   },
   "source": [
    "# 作業 "
   ]
  },
  {
   "cell_type": "markdown",
   "metadata": {},
   "source": [
    "### 1. 請比較對一個 1000 x 100 x 100 的陣列，使用不同方法對每一個元素 +1 的時間比較。\n",
    "\n",
    "\n"
   ]
  },
  {
   "cell_type": "code",
   "execution_count": 2,
   "metadata": {},
   "outputs": [],
   "source": [
    "# 記得先 Import 正確的套件\n",
    "import numpy as np"
   ]
  },
  {
   "cell_type": "code",
   "execution_count": 3,
   "metadata": {
    "colab": {},
    "colab_type": "code",
    "id": "5QrYoyNWsvFS"
   },
   "outputs": [],
   "source": [
    "Z = np.random.randint(0, 10, 1000000).reshape(100, 100, 100)"
   ]
  },
  {
   "cell_type": "code",
   "execution_count": 5,
   "metadata": {},
   "outputs": [
    {
     "name": "stdout",
     "output_type": "stream",
     "text": [
      "37.1 ns ± 10.3 ns per loop (mean ± std. dev. of 7 runs, 10 loops each)\n"
     ]
    },
    {
     "data": {
      "text/plain": [
       "array([[[10009, 10000, 10001, ..., 10002, 10005, 10004],\n",
       "        [10009, 10003, 10002, ..., 10005, 10005, 10002],\n",
       "        [10002, 10002, 10008, ..., 10005, 10004, 10005],\n",
       "        ...,\n",
       "        [10000, 10001, 10003, ..., 10009, 10006, 10007],\n",
       "        [10003, 10007, 10001, ..., 10001, 10007, 10008],\n",
       "        [10004, 10003, 10005, ..., 10002, 10001, 10009]],\n",
       "\n",
       "       [[10009, 10002, 10007, ..., 10001, 10007, 10008],\n",
       "        [10001, 10000, 10008, ..., 10001, 10000, 10007],\n",
       "        [10006, 10007, 10009, ..., 10009, 10009, 10008],\n",
       "        ...,\n",
       "        [10007, 10007, 10003, ..., 10009, 10005, 10001],\n",
       "        [10006, 10000, 10001, ..., 10005, 10006, 10008],\n",
       "        [10002, 10001, 10006, ..., 10008, 10009, 10001]],\n",
       "\n",
       "       [[10003, 10001, 10003, ..., 10005, 10004, 10004],\n",
       "        [10005, 10005, 10001, ..., 10000, 10007, 10004],\n",
       "        [10008, 10006, 10008, ..., 10009, 10007, 10006],\n",
       "        ...,\n",
       "        [10001, 10009, 10006, ..., 10002, 10000, 10008],\n",
       "        [10001, 10005, 10007, ..., 10002, 10006, 10009],\n",
       "        [10003, 10002, 10008, ..., 10001, 10000, 10000]],\n",
       "\n",
       "       ...,\n",
       "\n",
       "       [[10001, 10007, 10000, ..., 10007, 10008, 10008],\n",
       "        [10009, 10002, 10002, ..., 10000, 10008, 10005],\n",
       "        [10008, 10005, 10006, ..., 10007, 10002, 10009],\n",
       "        ...,\n",
       "        [10002, 10005, 10004, ..., 10006, 10006, 10003],\n",
       "        [10003, 10004, 10003, ..., 10003, 10004, 10000],\n",
       "        [10005, 10005, 10007, ..., 10008, 10004, 10004]],\n",
       "\n",
       "       [[10008, 10004, 10004, ..., 10003, 10009, 10006],\n",
       "        [10005, 10004, 10001, ..., 10006, 10002, 10006],\n",
       "        [10003, 10000, 10004, ..., 10002, 10002, 10001],\n",
       "        ...,\n",
       "        [10006, 10007, 10004, ..., 10008, 10006, 10002],\n",
       "        [10003, 10005, 10001, ..., 10006, 10002, 10008],\n",
       "        [10004, 10003, 10009, ..., 10000, 10008, 10008]],\n",
       "\n",
       "       [[10004, 10005, 10005, ..., 10002, 10004, 10005],\n",
       "        [10006, 10001, 10000, ..., 10006, 10003, 10002],\n",
       "        [10002, 10008, 10006, ..., 10001, 10004, 10002],\n",
       "        ...,\n",
       "        [10000, 10004, 10009, ..., 10003, 10007, 10004],\n",
       "        [10002, 10005, 10002, ..., 10009, 10004, 10006],\n",
       "        [10006, 10006, 10001, ..., 10009, 10000, 10001]]])"
      ]
     },
     "execution_count": 5,
     "metadata": {},
     "output_type": "execute_result"
    }
   ],
   "source": [
    "%timeit -n 10 a = 2\n",
    "\n",
    "for i in Z:\n",
    "    for j in i:\n",
    "        for k in j:\n",
    "            k += 1"
   ]
  },
  {
   "cell_type": "code",
   "execution_count": 6,
   "metadata": {},
   "outputs": [
    {
     "name": "stdout",
     "output_type": "stream",
     "text": [
      "34.3 ns ± 7.28 ns per loop (mean ± std. dev. of 7 runs, 10 loops each)\n"
     ]
    }
   ],
   "source": [
    "%timeit -n 10 a = 2\n",
    "\n",
    "for i in Z.flat:\n",
    "    i = i+1"
   ]
  },
  {
   "cell_type": "code",
   "execution_count": 12,
   "metadata": {},
   "outputs": [
    {
     "name": "stdout",
     "output_type": "stream",
     "text": [
      "72.9 ns ± 16.7 ns per loop (mean ± std. dev. of 7 runs, 10 loops each)\n"
     ]
    }
   ],
   "source": [
    "%timeit -n 10 a = 2\n",
    "\n",
    "for i in np.nditer(Z):\n",
    "    i = i + 1"
   ]
  },
  {
   "cell_type": "markdown",
   "metadata": {},
   "source": [
    "### 2. 如何從一個陣列中，找出出現頻率最高的數值與位置？\n"
   ]
  },
  {
   "cell_type": "code",
   "execution_count": 16,
   "metadata": {
    "colab": {},
    "colab_type": "code",
    "id": "e1gVI0tvsvFY"
   },
   "outputs": [
    {
     "name": "stdout",
     "output_type": "stream",
     "text": [
      "[7 7 4 4 5 8 7 9 1 3 9 5 0 0 8 6 4 4 0 8 1 6 0 6 8 3 0 6 9 2 1 0 6 6 2 4 1\n",
      " 6 8 5 1 9 4 9 5 2 5 9 2 5]\n"
     ]
    }
   ],
   "source": [
    "\n",
    "Z = np.random.randint(0,10,50)\n",
    "print(Z)\n"
   ]
  },
  {
   "cell_type": "code",
   "execution_count": 17,
   "metadata": {},
   "outputs": [
    {
     "data": {
      "text/plain": [
       "6"
      ]
     },
     "execution_count": 17,
     "metadata": {},
     "output_type": "execute_result"
    }
   ],
   "source": [
    "rint = np.argmax(np.bincount(Z))\n",
    "rint"
   ]
  },
  {
   "cell_type": "code",
   "execution_count": 19,
   "metadata": {},
   "outputs": [
    {
     "data": {
      "text/plain": [
       "(array([15, 21, 23, 27, 32, 33, 37], dtype=int64),)"
      ]
     },
     "execution_count": 19,
     "metadata": {},
     "output_type": "execute_result"
    }
   ],
   "source": [
    "np.where(Z==rint)"
   ]
  },
  {
   "cell_type": "markdown",
   "metadata": {},
   "source": [
    "### 3. 如何利用 list(...) 實現 a.tolist() 的效果？試著用程式實作。\n"
   ]
  },
  {
   "cell_type": "code",
   "execution_count": 14,
   "metadata": {},
   "outputs": [
    {
     "name": "stdout",
     "output_type": "stream",
     "text": [
      "[0, 7, 1, 1, 4, 1]\n",
      "[0, 7, 1, 1, 4, 1]\n",
      "[[3, 7, 0, 6], [2, 5, 2, 5], [7, 3, 5, 5]]\n",
      "[array([3, 7, 0, 6]), array([2, 5, 2, 5]), array([7, 3, 5, 5])]\n",
      "[[[0, 9], [5, 3], [4, 8]], [[0, 7], [5, 3], [1, 6]]]\n",
      "[array([[0, 9],\n",
      "       [5, 3],\n",
      "       [4, 8]]), array([[0, 7],\n",
      "       [5, 3],\n",
      "       [1, 6]])]\n"
     ]
    }
   ],
   "source": [
    "a = np.random.randint(10, size=6) \n",
    "\n",
    "print(a.tolist())\n",
    "print(list(a))\n",
    "\n",
    "\n",
    "b = np.random.randint(10, size=(3,4)) \n",
    "\n",
    "print(b.tolist())\n",
    "print(list(b))\n",
    "\n",
    "\n",
    "c = np.random.randint(10, size=(2,3,2)) \n",
    "\n",
    "print(c.tolist())\n",
    "print(list(c))\n"
   ]
  },
  {
   "cell_type": "code",
   "execution_count": 15,
   "metadata": {},
   "outputs": [
    {
     "name": "stdout",
     "output_type": "stream",
     "text": [
      "[0, 7, 1, 1, 4, 1]\n",
      "[[3, 7, 0, 6], [2, 5, 2, 5], [7, 3, 5, 5]]\n",
      "[[[0, 9], [5, 3], [4, 8]], [[0, 7], [5, 3], [1, 6]]]\n"
     ]
    }
   ],
   "source": [
    "def tolist(iterable):\n",
    "    if type(iterable) != np.ndarray:\n",
    "        return iterable\n",
    "    return [tolist(obj) for obj in iterable]\n",
    "\n",
    "print(tolist(a))\n",
    "print(tolist(b))\n",
    "print(tolist(c))"
   ]
  },
  {
   "cell_type": "code",
   "execution_count": null,
   "metadata": {},
   "outputs": [],
   "source": []
  }
 ],
 "metadata": {
  "colab": {
   "name": "Day_023_HW.ipynb",
   "provenance": []
  },
  "kernelspec": {
   "display_name": "Python 3",
   "language": "python",
   "name": "python3"
  },
  "language_info": {
   "codemirror_mode": {
    "name": "ipython",
    "version": 3
   },
   "file_extension": ".py",
   "mimetype": "text/x-python",
   "name": "python",
   "nbconvert_exporter": "python",
   "pygments_lexer": "ipython3",
   "version": "3.8.5"
  }
 },
 "nbformat": 4,
 "nbformat_minor": 1
}
